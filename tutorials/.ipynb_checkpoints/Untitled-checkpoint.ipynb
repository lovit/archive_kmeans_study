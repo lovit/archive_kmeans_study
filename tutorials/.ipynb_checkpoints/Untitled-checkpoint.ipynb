{
 "cells": [
  {
   "cell_type": "code",
   "execution_count": 5,
   "metadata": {
    "collapsed": false
   },
   "outputs": [],
   "source": [
    "base_clustering = KMeans(n_clusters=5, n_init=1, max_iter=20)\n"
   ]
  },
  {
   "cell_type": "code",
   "execution_count": null,
   "metadata": {
    "collapsed": true
   },
   "outputs": [],
   "source": [
    "from collections import defaultdict\n",
    "from scipy.sparse import csr_matrix\n",
    "from sklearn.cluster import KMeans\n",
    "\n",
    "\n",
    "class KMeansEnsemble:\n",
    "    def __init__(self, n_ensembles=100, n_clusters=100):\n",
    "        self.n_ensembles = n_ensembles\n",
    "        self.n_clusters = n_clusters\n",
    "    \n",
    "    def ensemble(self, x, n_final_clusters=10, max_iter=20, verbose=True):\n",
    "        cooccur = defaultdict(lambda: defaultdict(lambda: 0))\n",
    "        base_clustering = KMeans(n_clusters=self.n_clusters, n_init=1, max_iter=20)\n",
    "        for n_iter in range(self.n_ensembles):\n",
    "            y = base_clustering.fit_predict(x)\n",
    "            groups = defaultdict(lambda: [])\n",
    "            for i, yi in enumerate(y):\n",
    "                groups[yi].append(i)\n",
    "            for label in groups.keys():\n",
    "                for i in groups.get(label, []):\n",
    "                    for j in groups.get(label, []):\n",
    "                        cooccur[i][j] += 1\n",
    "        \n",
    "        rows = []\n",
    "        cols = []\n",
    "        data = []\n",
    "        for i, jdict in cooccur.items():\n",
    "            for j, v in jdict.items():\n",
    "                rows.append(i)\n",
    "                rows.append(j)\n",
    "                data.append(v)\n",
    "        \n",
    "        x_final = csr_matrix(data, (rows, cols))  # TODO: input check\n",
    "        final_clustering = KMeans(n_clusters=n_final_clusters, \n",
    "                                  n_init=1, max_iter=max_iter,\n",
    "                                  verbose=verbose)\n",
    "        return final_clustering.fit_predict(x_final)"
   ]
  }
 ],
 "metadata": {
  "kernelspec": {
   "display_name": "Python 3",
   "language": "python",
   "name": "python3"
  },
  "language_info": {
   "codemirror_mode": {
    "name": "ipython",
    "version": 3
   },
   "file_extension": ".py",
   "mimetype": "text/x-python",
   "name": "python",
   "nbconvert_exporter": "python",
   "pygments_lexer": "ipython3",
   "version": "3.5.2"
  }
 },
 "nbformat": 4,
 "nbformat_minor": 2
}
