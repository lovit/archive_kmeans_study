{
 "cells": [
  {
   "cell_type": "markdown",
   "metadata": {},
   "source": [
    "k-means ensemble은 여러 번의 k-means clustering을 통하여 ball shaped이 아닌 데이터의 군집을 찾을 수 있는 방법론이다. Jain (2010)은 아래의 그림처럼, 한 번의 클러스터링을 통하여 같은 label을 가지는 점들끼리의 co-occurance를 계산한다. 여러 번의 k-means를 수행하여 co-occurance 횟수를 새로운 n by n의 행렬로 저장한다. 이 때 각 k-means의 k가 반드시 같을 필요도 없다. 아래 그림처럼 어떨 때에는 2로 혹은 3으로 해도 좋다. \n",
    "\n",
    "이 행렬은 각 데이터의 co-occurrance 기준의 새로운 representation으로 생각해도 되며, 더 직접적으로는 데이터간의 similarity score이다. (Jain, 2010에서는 similarity score로 정의하였고, 이 튜토리얼에서도 그렇게 이용한다)\n",
    "\n",
    "![ensemble_frame](figures/kmeans_ensemble.png)\n",
    "\n",
    "여러 번 같은 label을 가지는 두 데이터는 서로 가깝게 위치하기 때문에 similarity가 높아진다는 것인데, 이때에는 한 점 i를 기준으로 global 하게 모든 다른 점 j를 고려하는 것이 아니게 된다. co-occurance matrix는 마치 RBF kernel matrix와도 비슷한 모양을 보인다. \n",
    "\n",
    "우리는 kmeans_ensemble을 통하여 위 그림과 같이 여러 번의 k-means 결과를 바탕으로 co-occurance matrix를 구한 뒤, 이를 similarity matrix로 이용하는 single linkage hierarchical clustering을 수행한다. 그 결과는 아래의 1000 points 그림이 그 다음의 두 개의 군집으로 나뉘어진다. \n",
    "\n",
    "[1] Jain, A. K. (2010). Data clustering: 50 years beyond K-means. Pattern recognition letters, 31(8), 651-666. ISO 690"
   ]
  },
  {
   "cell_type": "code",
   "execution_count": null,
   "metadata": {
    "collapsed": true
   },
   "outputs": [],
   "source": []
  }
 ],
 "metadata": {
  "kernelspec": {
   "display_name": "Python 3",
   "language": "python",
   "name": "python3"
  },
  "language_info": {
   "codemirror_mode": {
    "name": "ipython",
    "version": 3
   },
   "file_extension": ".py",
   "mimetype": "text/x-python",
   "name": "python",
   "nbconvert_exporter": "python",
   "pygments_lexer": "ipython3",
   "version": "3.6.1"
  }
 },
 "nbformat": 4,
 "nbformat_minor": 2
}
